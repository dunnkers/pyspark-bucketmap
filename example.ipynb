{
 "cells": [
  {
   "cell_type": "markdown",
   "metadata": {},
   "source": [
    "# How to group DataFrame columns into buckets and map the buckets to different values 🚀\n",
    "\n",
    "Have you ever heard of pyspark's [`Bucketizer`](https://spark.apache.org/docs/latest/api/python/reference/api/pyspark.ml.feature.Bucketizer.html)? It can be really useful! Although you perhaps won't need it for some simple transformation, it can be really useful for certain usecases. \n",
    "\n",
    "In this blogpost, we will:\n",
    "\n",
    "1. Explore the `Bucketizer` class\n",
    "2. Combine it with `create_map`\n",
    "3. Use a module so we don't have to write the logic ourselves 🗝🥳\n",
    "\n",
    "Let's get started!"
   ]
  },
  {
   "cell_type": "markdown",
   "metadata": {},
   "source": [
    "## The problem\n",
    "\n",
    "First, let's boot up a local spark session:"
   ]
  },
  {
   "cell_type": "code",
   "execution_count": 1,
   "metadata": {},
   "outputs": [
    {
     "name": "stderr",
     "output_type": "stream",
     "text": [
      "Setting default log level to \"WARN\".\n",
      "To adjust logging level use sc.setLogLevel(newLevel). For SparkR, use setLogLevel(newLevel).\n"
     ]
    },
    {
     "name": "stdout",
     "output_type": "stream",
     "text": [
      "22/07/21 11:50:38 WARN NativeCodeLoader: Unable to load native-hadoop library for your platform... using builtin-java classes where applicable\n"
     ]
    },
    {
     "data": {
      "text/html": [
       "\n",
       "            <div>\n",
       "                <p><b>SparkSession - in-memory</b></p>\n",
       "                \n",
       "        <div>\n",
       "            <p><b>SparkContext</b></p>\n",
       "\n",
       "            <p><a href=\"http://a3924995158d:4040\">Spark UI</a></p>\n",
       "\n",
       "            <dl>\n",
       "              <dt>Version</dt>\n",
       "                <dd><code>v3.3.0</code></dd>\n",
       "              <dt>Master</dt>\n",
       "                <dd><code>local[*]</code></dd>\n",
       "              <dt>AppName</dt>\n",
       "                <dd><code>pyspark-shell</code></dd>\n",
       "            </dl>\n",
       "        </div>\n",
       "        \n",
       "            </div>\n",
       "        "
      ],
      "text/plain": [
       "<pyspark.sql.session.SparkSession at 0x7f8c336fd700>"
      ]
     },
     "execution_count": 1,
     "metadata": {},
     "output_type": "execute_result"
    }
   ],
   "source": [
    "from pyspark.sql import SparkSession\n",
    "\n",
    "spark = SparkSession.builder.getOrCreate()\n",
    "spark"
   ]
  },
  {
   "cell_type": "markdown",
   "metadata": {},
   "source": [
    "Say we have this dataset containing some persons:"
   ]
  },
  {
   "cell_type": "code",
   "execution_count": 2,
   "metadata": {},
   "outputs": [
    {
     "data": {
      "text/plain": [
       "DataFrame[age: bigint, name: string]"
      ]
     },
     "execution_count": 2,
     "metadata": {},
     "output_type": "execute_result"
    }
   ],
   "source": [
    "from pyspark.sql import Row\n",
    "\n",
    "people = spark.createDataFrame(\n",
    "    [\n",
    "        Row(age=12, name=\"Damian\"),\n",
    "        Row(age=15, name=\"Jake\"),\n",
    "        Row(age=18, name=\"Dominic\"),\n",
    "        Row(age=20, name=\"John\"),\n",
    "        Row(age=27, name=\"Jerry\"),\n",
    "        Row(age=101, name=\"Jerry's Grandpa\"),\n",
    "    ]\n",
    ")\n",
    "people"
   ]
  },
  {
   "cell_type": "markdown",
   "metadata": {},
   "source": [
    "Now, what we would like to do, is map each person's age to an age category.\n",
    "\n",
    "|age range|life phase|\n",
    "|-|-|\n",
    "|0 to 12|Child|\n",
    "|12 to 18|Teenager|\n",
    "|18 to 25|Young adulthood|\n",
    "|25 to 70|Adult|\n",
    "|70 and beyond|Elderly|\n",
    "\n",
    "How best to go about this?\n",
    "\n",
    "## Using pyspark UDF's\n",
    "A first option is to use a PySpark UDF:"
   ]
  },
  {
   "cell_type": "code",
   "execution_count": 3,
   "metadata": {},
   "outputs": [
    {
     "name": "stderr",
     "output_type": "stream",
     "text": [
      "                                                                                \r"
     ]
    },
    {
     "name": "stdout",
     "output_type": "stream",
     "text": [
      "+---+---------------+----------+\n",
      "|age|           name|life phase|\n",
      "+---+---------------+----------+\n",
      "| 12|         Damian|  Teenager|\n",
      "| 15|           Jake|  Teenager|\n",
      "| 18|        Dominic|     Adult|\n",
      "| 20|           John|     Adult|\n",
      "| 27|          Jerry|     Adult|\n",
      "|101|Jerry's Grandpa|   Elderly|\n",
      "+---+---------------+----------+\n",
      "\n"
     ]
    }
   ],
   "source": [
    "from pyspark.sql.functions import udf\n",
    "from pyspark.sql import DataFrame\n",
    "\n",
    "def age_to_life_phase(age: int):\n",
    "    if age < 0:\n",
    "        return \"Not yet born\"\n",
    "    elif age < 12:\n",
    "        return \"Child\"\n",
    "    elif age < 18:\n",
    "        return \"Teenager\"\n",
    "    elif age < 70:\n",
    "        return \"Adult\"\n",
    "    else:  # age >= 70\n",
    "        return \"Elderly\"\n",
    "\n",
    "bucketed_udf = udf(age_to_life_phase, \"string\")\n",
    "people_with_phase_udf: DataFrame = people.withColumn(\"life phase\", bucketed_udf(\"age\"))\n",
    "people_with_phase_udf.show()"
   ]
  },
  {
   "cell_type": "markdown",
   "metadata": {},
   "source": [
    "But UDF's are sloooow 🐌. To keep our edge, we'll need something faster 😲.\n"
   ]
  },
  {
   "cell_type": "markdown",
   "metadata": {},
   "source": [
    "## Using `Bucketizer` + `create_map`\n",
    "Luckily, there's pyspark's `Bucketizer`. It works like so:"
   ]
  },
  {
   "cell_type": "code",
   "execution_count": 4,
   "metadata": {},
   "outputs": [
    {
     "name": "stdout",
     "output_type": "stream",
     "text": [
      "+---+---------------+----------+\n",
      "|age|           name|life phase|\n",
      "+---+---------------+----------+\n",
      "| 12|         Damian|       2.0|\n",
      "| 15|           Jake|       2.0|\n",
      "| 18|        Dominic|       3.0|\n",
      "| 20|           John|       3.0|\n",
      "| 27|          Jerry|       4.0|\n",
      "|101|Jerry's Grandpa|       5.0|\n",
      "+---+---------------+----------+\n",
      "\n"
     ]
    }
   ],
   "source": [
    "from pyspark.ml.feature import Bucketizer\n",
    "\n",
    "bucketizer = Bucketizer(\n",
    "    inputCol=\"age\",\n",
    "    outputCol=\"life phase\",\n",
    "    splits=[\n",
    "        -float(\"inf\"), 0, 12, 18, 25, 70, float(\"inf\")\n",
    "    ]\n",
    ")\n",
    "bucketed: DataFrame = bucketizer.transform(people)\n",
    "bucketed.show()"
   ]
  },
  {
   "cell_type": "markdown",
   "metadata": {},
   "source": [
    "Cool! We just put our ages in buckets, represented by numbers. Let's now map each bucket to a life phase."
   ]
  },
  {
   "cell_type": "code",
   "execution_count": 5,
   "metadata": {},
   "outputs": [
    {
     "name": "stdout",
     "output_type": "stream",
     "text": [
      "+---+---------------+---------------+\n",
      "|age|           name|     life phase|\n",
      "+---+---------------+---------------+\n",
      "| 12|         Damian|       Teenager|\n",
      "| 15|           Jake|       Teenager|\n",
      "| 18|        Dominic|Young adulthood|\n",
      "| 20|           John|Young adulthood|\n",
      "| 27|          Jerry|          Adult|\n",
      "|101|Jerry's Grandpa|        Elderly|\n",
      "+---+---------------+---------------+\n",
      "\n"
     ]
    }
   ],
   "source": [
    "from pyspark.sql.functions import lit, create_map\n",
    "from typing import Dict\n",
    "from pyspark.sql.column import Column\n",
    "\n",
    "range_mapper = create_map(\n",
    "    [lit(0.0), lit(\"Not yet born\")]\n",
    "    + [lit(1.0), lit(\"Child\")]\n",
    "    + [lit(2.0), lit(\"Teenager\")]\n",
    "    + [lit(3.0), lit(\"Young adulthood\")]\n",
    "    + [lit(4.0), lit(\"Adult\")]\n",
    "    + [lit(5.0), lit(\"Elderly\")]\n",
    ")\n",
    "people_phase_column: Column = bucketed[\"life phase\"]\n",
    "people_with_phase: DataFrame = bucketed.withColumn(\n",
    "    \"life phase\", range_mapper[people_phase_column]\n",
    ")\n",
    "people_with_phase.show()\n"
   ]
  },
  {
   "cell_type": "markdown",
   "metadata": {},
   "source": [
    "🎉 Success!\n",
    "\n",
    "Using a combination of `Bucketizer` and `create_map`, we managed to map people's age to their life phases."
   ]
  },
  {
   "cell_type": "markdown",
   "metadata": {},
   "source": [
    "## `pyspark-bucketmap`\n",
    "\n",
    "🎁 As a bonus, I put all of the above in a neat little module, which you can install simply using `pip`."
   ]
  },
  {
   "cell_type": "code",
   "execution_count": 6,
   "metadata": {},
   "outputs": [
    {
     "name": "stdout",
     "output_type": "stream",
     "text": [
      "Requirement already satisfied: pyspark-bucketmap in /usr/local/lib/python3.9/dist-packages (0.0.4)\n",
      "Requirement already satisfied: overrides>=4.0.0 in /usr/local/lib/python3.9/dist-packages (from pyspark-bucketmap) (6.1.0)\n",
      "Requirement already satisfied: pyspark>=1.4.0 in /usr/local/lib/python3.9/dist-packages (from pyspark-bucketmap) (3.3.0)\n",
      "Requirement already satisfied: numpy>=1.19.0 in /usr/local/lib/python3.9/dist-packages (from pyspark-bucketmap) (1.23.1)\n",
      "Requirement already satisfied: typing-utils>=0.0.3 in /usr/local/lib/python3.9/dist-packages (from overrides>=4.0.0->pyspark-bucketmap) (0.1.0)\n",
      "Requirement already satisfied: py4j==0.10.9.5 in /usr/local/lib/python3.9/dist-packages (from pyspark>=1.4.0->pyspark-bucketmap) (0.10.9.5)\n",
      "\u001b[33mWARNING: Running pip as the 'root' user can result in broken permissions and conflicting behaviour with the system package manager. It is recommended to use a virtual environment instead: https://pip.pypa.io/warnings/venv\u001b[0m\u001b[33m\n",
      "\u001b[0m\n",
      "\u001b[1m[\u001b[0m\u001b[34;49mnotice\u001b[0m\u001b[1;39;49m]\u001b[0m\u001b[39;49m A new release of pip available: \u001b[0m\u001b[31;49m22.1.2\u001b[0m\u001b[39;49m -> \u001b[0m\u001b[32;49m22.2\u001b[0m\n",
      "\u001b[1m[\u001b[0m\u001b[34;49mnotice\u001b[0m\u001b[1;39;49m]\u001b[0m\u001b[39;49m To update, run: \u001b[0m\u001b[32;49mpip install --upgrade pip\u001b[0m\n",
      "Note: you may need to restart the kernel to use updated packages.\n"
     ]
    }
   ],
   "source": [
    "%pip install pyspark-bucketmap"
   ]
  },
  {
   "cell_type": "markdown",
   "metadata": {},
   "source": [
    "Define the splits and mappings like before. Each dictionary key is a mapping to the n-th bucket (for example, bucket 1 refers to the range `0` to `12`)."
   ]
  },
  {
   "cell_type": "code",
   "execution_count": 7,
   "metadata": {},
   "outputs": [],
   "source": [
    "from typing import List\n",
    "\n",
    "splits: List[float] = [-float(\"inf\"), 0, 12, 18, 25, 70, float(\"inf\")]\n",
    "mapping: Dict[int, Column] = {\n",
    "    0: lit(\"Not yet born\"),\n",
    "    1: lit(\"Child\"),\n",
    "    2: lit(\"Teenager\"),\n",
    "    3: lit(\"Young adulthood\"),\n",
    "    4: lit(\"Adult\"),\n",
    "    5: lit(\"Elderly\"),\n",
    "}"
   ]
  },
  {
   "cell_type": "markdown",
   "metadata": {},
   "source": [
    "Then, simply import `pyspark_bucketmap.BucketMap` and call `transform()`."
   ]
  },
  {
   "cell_type": "code",
   "execution_count": 8,
   "metadata": {},
   "outputs": [
    {
     "name": "stdout",
     "output_type": "stream",
     "text": [
      "+---------------+---------------+\n",
      "|           name|          phase|\n",
      "+---------------+---------------+\n",
      "|         Damian|       Teenager|\n",
      "|           Jake|       Teenager|\n",
      "|        Dominic|Young adulthood|\n",
      "|           John|Young adulthood|\n",
      "|          Jerry|          Adult|\n",
      "|Jerry's Grandpa|        Elderly|\n",
      "+---------------+---------------+\n",
      "\n"
     ]
    }
   ],
   "source": [
    "from pyspark_bucketmap import BucketMap\n",
    "from typing import List, Dict\n",
    "\n",
    "bucket_mapper = BucketMap(\n",
    "    splits=splits, mapping=mapping, inputCol=\"age\", outputCol=\"phase\"\n",
    ")\n",
    "phases_actual: DataFrame = bucket_mapper.transform(people).select(\"name\", \"phase\")\n",
    "phases_actual.show()"
   ]
  },
  {
   "cell_type": "markdown",
   "metadata": {},
   "source": [
    "You can find the module here:\n",
    "\n",
    "[https://github.com/dunnkers/pyspark-bucketmap](https://github.com/dunnkers/pyspark-bucketmap)\n"
   ]
  },
  {
   "cell_type": "markdown",
   "metadata": {},
   "source": [
    "## Benchmark\n",
    "\n",
    "Using `pyspark-bucketmap` results in ~~faster~~ code compared to using pyspark UDF's:"
   ]
  },
  {
   "cell_type": "code",
   "execution_count": 145,
   "metadata": {},
   "outputs": [
    {
     "data": {
      "text/plain": [
       "DataFrame[name: string, phase: string]"
      ]
     },
     "execution_count": 145,
     "metadata": {},
     "output_type": "execute_result"
    }
   ],
   "source": [
    "def bucketmap_approach():\n",
    "    bucket_mapper = BucketMap(\n",
    "        splits=splits, mapping=mapping, inputCol=\"age\", outputCol=\"phase\"\n",
    "    )\n",
    "    return bucket_mapper.transform(df).select(\"name\", \"phase\")\n",
    "\n",
    "df: DataFrame = people\n",
    "bucketmap_approach()"
   ]
  },
  {
   "cell_type": "code",
   "execution_count": 146,
   "metadata": {},
   "outputs": [
    {
     "data": {
      "text/plain": [
       "DataFrame[age: bigint, name: string, life phase: string]"
      ]
     },
     "execution_count": 146,
     "metadata": {},
     "output_type": "execute_result"
    }
   ],
   "source": [
    "def udf_approach():\n",
    "    bucketed_udf = udf(age_to_life_phase, \"string\")\n",
    "    return df.withColumn(\"life phase\", bucketed_udf(\"age\"))\n",
    "\n",
    "df: DataFrame = people\n",
    "udf_approach()"
   ]
  },
  {
   "cell_type": "code",
   "execution_count": 147,
   "metadata": {},
   "outputs": [
    {
     "data": {
      "text/plain": [
       "{'time': [0.3006687560118735,\n",
       "  0.31598263198975474,\n",
       "  0.2988526640692726,\n",
       "  0.34373067307751626,\n",
       "  0.2657787390053272],\n",
       " 'approach': 'udf_approach',\n",
       " 'n_times': 1}"
      ]
     },
     "execution_count": 147,
     "metadata": {},
     "output_type": "execute_result"
    }
   ],
   "source": [
    "from itertools import repeat, product\n",
    "from timeit import repeat as timeit\n",
    "from functools import reduce\n",
    "from typing import Callable\n",
    "from copy import deepcopy\n",
    "\n",
    "def benchmark(\n",
    "    approach: Callable[[DataFrame], DataFrame],\n",
    "    n_times: int = 1,\n",
    ") -> dict:\n",
    "    setup: Callable = lambda: reduce(lambda a, b: a.union(b), repeat(people, n_times))\n",
    "    times: List[float] = timeit(deepcopy(approach), setup=setup, number=10, repeat=5)\n",
    "    return dict(\n",
    "        time=times, approach=approach.__name__, n_times=n_times\n",
    "    )\n",
    "\n",
    "benchmark(udf_approach, n_times=1)"
   ]
  },
  {
   "cell_type": "code",
   "execution_count": 148,
   "metadata": {},
   "outputs": [
    {
     "data": {
      "text/plain": [
       "[(1, <function __main__.udf_approach()>),\n",
       " (1, <function __main__.bucketmap_approach()>),\n",
       " (10, <function __main__.udf_approach()>),\n",
       " (10, <function __main__.bucketmap_approach()>),\n",
       " (100, <function __main__.udf_approach()>),\n",
       " (100, <function __main__.bucketmap_approach()>),\n",
       " (200, <function __main__.udf_approach()>),\n",
       " (200, <function __main__.bucketmap_approach()>),\n",
       " (300, <function __main__.udf_approach()>),\n",
       " (300, <function __main__.bucketmap_approach()>),\n",
       " (400, <function __main__.udf_approach()>),\n",
       " (400, <function __main__.bucketmap_approach()>),\n",
       " (500, <function __main__.udf_approach()>),\n",
       " (500, <function __main__.bucketmap_approach()>)]"
      ]
     },
     "execution_count": 148,
     "metadata": {},
     "output_type": "execute_result"
    }
   ],
   "source": [
    "from typing import Tuple\n",
    "\n",
    "benchmarks: List[Tuple[int, Callable]] = list(product(\n",
    "    [1, 10, 100, 200, 300, 400, 500], [udf_approach, bucketmap_approach]\n",
    "))\n",
    "benchmarks"
   ]
  },
  {
   "cell_type": "code",
   "execution_count": 149,
   "metadata": {},
   "outputs": [
    {
     "name": "stderr",
     "output_type": "stream",
     "text": [
      "100%|██████████| 14/14 [08:20<00:00, 35.73s/it]\n"
     ]
    }
   ],
   "source": [
    "from tqdm import tqdm\n",
    "\n",
    "benchmark_results = [\n",
    "    benchmark(approach, n_times=n_times) for n_times, approach in tqdm(benchmarks)\n",
    "]"
   ]
  },
  {
   "cell_type": "code",
   "execution_count": 152,
   "metadata": {},
   "outputs": [
    {
     "data": {
      "text/html": [
       "<div>\n",
       "<style scoped>\n",
       "    .dataframe tbody tr th:only-of-type {\n",
       "        vertical-align: middle;\n",
       "    }\n",
       "\n",
       "    .dataframe tbody tr th {\n",
       "        vertical-align: top;\n",
       "    }\n",
       "\n",
       "    .dataframe thead th {\n",
       "        text-align: right;\n",
       "    }\n",
       "</style>\n",
       "<table border=\"1\" class=\"dataframe\">\n",
       "  <thead>\n",
       "    <tr style=\"text-align: right;\">\n",
       "      <th></th>\n",
       "      <th>time</th>\n",
       "      <th>approach</th>\n",
       "      <th>n_times</th>\n",
       "      <th>n</th>\n",
       "    </tr>\n",
       "  </thead>\n",
       "  <tbody>\n",
       "    <tr>\n",
       "      <th>0</th>\n",
       "      <td>0.382576</td>\n",
       "      <td>udf_approach</td>\n",
       "      <td>1</td>\n",
       "      <td>6</td>\n",
       "    </tr>\n",
       "    <tr>\n",
       "      <th>0</th>\n",
       "      <td>0.338392</td>\n",
       "      <td>udf_approach</td>\n",
       "      <td>1</td>\n",
       "      <td>6</td>\n",
       "    </tr>\n",
       "  </tbody>\n",
       "</table>\n",
       "</div>"
      ],
      "text/plain": [
       "       time      approach  n_times  n\n",
       "0  0.382576  udf_approach        1  6\n",
       "0  0.338392  udf_approach        1  6"
      ]
     },
     "execution_count": 152,
     "metadata": {},
     "output_type": "execute_result"
    }
   ],
   "source": [
    "import pandas as pd\n",
    "\n",
    "df = pd.DataFrame(benchmark_results)\n",
    "df[\"n\"] = df[\"n_times\"] * people.count()\n",
    "df = df.explode(\"time\")\n",
    "df.head(2)"
   ]
  },
  {
   "cell_type": "code",
   "execution_count": 188,
   "metadata": {},
   "outputs": [
    {
     "name": "stdout",
     "output_type": "stream",
     "text": [
      "| approach           |   ('time', 1) |   ('time', 10) |   ('time', 100) |   ('time', 200) |   ('time', 300) |   ('time', 400) |   ('time', 500) |\n",
      "|:-------------------|--------------:|---------------:|----------------:|----------------:|----------------:|----------------:|----------------:|\n",
      "| bucketmap_approach |      0.423795 |       0.44539  |        0.439529 |        0.328591 |        0.300757 |        0.485822 |        0.346207 |\n",
      "| udf_approach       |      0.308301 |       0.297046 |        0.301018 |        0.286319 |        0.213509 |        0.166491 |        0.212083 |\n"
     ]
    },
    {
     "data": {
      "text/html": [
       "<div>\n",
       "<style scoped>\n",
       "    .dataframe tbody tr th:only-of-type {\n",
       "        vertical-align: middle;\n",
       "    }\n",
       "\n",
       "    .dataframe tbody tr th {\n",
       "        vertical-align: top;\n",
       "    }\n",
       "\n",
       "    .dataframe thead tr th {\n",
       "        text-align: left;\n",
       "    }\n",
       "\n",
       "    .dataframe thead tr:last-of-type th {\n",
       "        text-align: right;\n",
       "    }\n",
       "</style>\n",
       "<table border=\"1\" class=\"dataframe\">\n",
       "  <thead>\n",
       "    <tr>\n",
       "      <th></th>\n",
       "      <th colspan=\"7\" halign=\"left\">time</th>\n",
       "    </tr>\n",
       "    <tr>\n",
       "      <th>n_times</th>\n",
       "      <th>1</th>\n",
       "      <th>10</th>\n",
       "      <th>100</th>\n",
       "      <th>200</th>\n",
       "      <th>300</th>\n",
       "      <th>400</th>\n",
       "      <th>500</th>\n",
       "    </tr>\n",
       "    <tr>\n",
       "      <th>approach</th>\n",
       "      <th></th>\n",
       "      <th></th>\n",
       "      <th></th>\n",
       "      <th></th>\n",
       "      <th></th>\n",
       "      <th></th>\n",
       "      <th></th>\n",
       "    </tr>\n",
       "  </thead>\n",
       "  <tbody>\n",
       "    <tr>\n",
       "      <th>bucketmap_approach</th>\n",
       "      <td>0.423795</td>\n",
       "      <td>0.445390</td>\n",
       "      <td>0.439529</td>\n",
       "      <td>0.328591</td>\n",
       "      <td>0.300757</td>\n",
       "      <td>0.485822</td>\n",
       "      <td>0.346207</td>\n",
       "    </tr>\n",
       "    <tr>\n",
       "      <th>udf_approach</th>\n",
       "      <td>0.308301</td>\n",
       "      <td>0.297046</td>\n",
       "      <td>0.301018</td>\n",
       "      <td>0.286319</td>\n",
       "      <td>0.213509</td>\n",
       "      <td>0.166491</td>\n",
       "      <td>0.212083</td>\n",
       "    </tr>\n",
       "  </tbody>\n",
       "</table>\n",
       "</div>"
      ],
      "text/plain": [
       "                        time                                          \\\n",
       "n_times                  1         10        100       200       300   \n",
       "approach                                                               \n",
       "bucketmap_approach  0.423795  0.445390  0.439529  0.328591  0.300757   \n",
       "udf_approach        0.308301  0.297046  0.301018  0.286319  0.213509   \n",
       "\n",
       "                                        \n",
       "n_times                  400       500  \n",
       "approach                                \n",
       "bucketmap_approach  0.485822  0.346207  \n",
       "udf_approach        0.166491  0.212083  "
      ]
     },
     "execution_count": 188,
     "metadata": {},
     "output_type": "execute_result"
    }
   ],
   "source": [
    "table = df.groupby([\"approach\", \"n_times\"]).agg({\"time\": \"mean\"}).unstack()\n",
    "print(table.to_markdown())\n",
    "table"
   ]
  },
  {
   "cell_type": "markdown",
   "metadata": {},
   "source": [
    "| approach           |   ('time', 1) |   ('time', 10) |   ('time', 100) |   ('time', 200) |   ('time', 300) |   ('time', 400) |   ('time', 500) |\n",
    "|:-------------------|--------------:|---------------:|----------------:|----------------:|----------------:|----------------:|----------------:|\n",
    "| bucketmap_approach |      0.423795 |       0.44539  |        0.439529 |        0.328591 |        0.300757 |        0.485822 |        0.346207 |\n",
    "| udf_approach       |      0.308301 |       0.297046 |        0.301018 |        0.286319 |        0.213509 |        0.166491 |        0.212083 |\n"
   ]
  },
  {
   "cell_type": "code",
   "execution_count": 156,
   "metadata": {},
   "outputs": [
    {
     "name": "stdout",
     "output_type": "stream",
     "text": [
      "Requirement already satisfied: nbformat in /usr/local/lib/python3.9/dist-packages (5.4.0)\n",
      "Requirement already satisfied: jsonschema>=2.6 in /usr/local/lib/python3.9/dist-packages (from nbformat) (4.7.2)\n",
      "Requirement already satisfied: traitlets>=5.1 in /usr/local/lib/python3.9/dist-packages (from nbformat) (5.3.0)\n",
      "Requirement already satisfied: fastjsonschema in /usr/local/lib/python3.9/dist-packages (from nbformat) (2.16.1)\n",
      "Requirement already satisfied: jupyter-core in /usr/local/lib/python3.9/dist-packages (from nbformat) (4.11.1)\n",
      "Requirement already satisfied: attrs>=17.4.0 in /usr/local/lib/python3.9/dist-packages (from jsonschema>=2.6->nbformat) (21.4.0)\n",
      "Requirement already satisfied: pyrsistent!=0.17.0,!=0.17.1,!=0.17.2,>=0.14.0 in /usr/local/lib/python3.9/dist-packages (from jsonschema>=2.6->nbformat) (0.18.1)\n",
      "\u001b[33mWARNING: Running pip as the 'root' user can result in broken permissions and conflicting behaviour with the system package manager. It is recommended to use a virtual environment instead: https://pip.pypa.io/warnings/venv\u001b[0m\u001b[33m\n",
      "\u001b[0m\n",
      "\u001b[1m[\u001b[0m\u001b[34;49mnotice\u001b[0m\u001b[1;39;49m]\u001b[0m\u001b[39;49m A new release of pip available: \u001b[0m\u001b[31;49m22.1.2\u001b[0m\u001b[39;49m -> \u001b[0m\u001b[32;49m22.2\u001b[0m\n",
      "\u001b[1m[\u001b[0m\u001b[34;49mnotice\u001b[0m\u001b[1;39;49m]\u001b[0m\u001b[39;49m To update, run: \u001b[0m\u001b[32;49mpip install --upgrade pip\u001b[0m\n",
      "Note: you may need to restart the kernel to use updated packages.\n"
     ]
    }
   ],
   "source": [
    "%pip install nbformat"
   ]
  },
  {
   "cell_type": "code",
   "execution_count": 157,
   "metadata": {},
   "outputs": [
    {
     "ename": "ValueError",
     "evalue": "Mime type rendering requires nbformat>=4.2.0 but it is not installed",
     "output_type": "error",
     "traceback": [
      "\u001b[0;31m---------------------------------------------------------------------------\u001b[0m",
      "\u001b[0;31mValueError\u001b[0m                                Traceback (most recent call last)",
      "File \u001b[0;32m/usr/local/lib/python3.9/dist-packages/IPython/core/formatters.py:921\u001b[0m, in \u001b[0;36mIPythonDisplayFormatter.__call__\u001b[0;34m(self, obj)\u001b[0m\n\u001b[1;32m    919\u001b[0m method \u001b[39m=\u001b[39m get_real_method(obj, \u001b[39mself\u001b[39m\u001b[39m.\u001b[39mprint_method)\n\u001b[1;32m    920\u001b[0m \u001b[39mif\u001b[39;00m method \u001b[39mis\u001b[39;00m \u001b[39mnot\u001b[39;00m \u001b[39mNone\u001b[39;00m:\n\u001b[0;32m--> 921\u001b[0m     method()\n\u001b[1;32m    922\u001b[0m     \u001b[39mreturn\u001b[39;00m \u001b[39mTrue\u001b[39;00m\n",
      "File \u001b[0;32m/usr/local/lib/python3.9/dist-packages/plotly/basedatatypes.py:842\u001b[0m, in \u001b[0;36mBaseFigure._ipython_display_\u001b[0;34m(self)\u001b[0m\n\u001b[1;32m    839\u001b[0m \u001b[39mimport\u001b[39;00m \u001b[39mplotly\u001b[39;00m\u001b[39m.\u001b[39;00m\u001b[39mio\u001b[39;00m \u001b[39mas\u001b[39;00m \u001b[39mpio\u001b[39;00m\n\u001b[1;32m    841\u001b[0m \u001b[39mif\u001b[39;00m pio\u001b[39m.\u001b[39mrenderers\u001b[39m.\u001b[39mrender_on_display \u001b[39mand\u001b[39;00m pio\u001b[39m.\u001b[39mrenderers\u001b[39m.\u001b[39mdefault:\n\u001b[0;32m--> 842\u001b[0m     pio\u001b[39m.\u001b[39;49mshow(\u001b[39mself\u001b[39;49m)\n\u001b[1;32m    843\u001b[0m \u001b[39melse\u001b[39;00m:\n\u001b[1;32m    844\u001b[0m     \u001b[39mprint\u001b[39m(\u001b[39mrepr\u001b[39m(\u001b[39mself\u001b[39m))\n",
      "File \u001b[0;32m/usr/local/lib/python3.9/dist-packages/plotly/io/_renderers.py:396\u001b[0m, in \u001b[0;36mshow\u001b[0;34m(fig, renderer, validate, **kwargs)\u001b[0m\n\u001b[1;32m    391\u001b[0m         \u001b[39mraise\u001b[39;00m \u001b[39mValueError\u001b[39;00m(\n\u001b[1;32m    392\u001b[0m             \u001b[39m\"\u001b[39m\u001b[39mMime type rendering requires ipython but it is not installed\u001b[39m\u001b[39m\"\u001b[39m\n\u001b[1;32m    393\u001b[0m         )\n\u001b[1;32m    395\u001b[0m     \u001b[39mif\u001b[39;00m \u001b[39mnot\u001b[39;00m nbformat \u001b[39mor\u001b[39;00m LooseVersion(nbformat\u001b[39m.\u001b[39m__version__) \u001b[39m<\u001b[39m LooseVersion(\u001b[39m\"\u001b[39m\u001b[39m4.2.0\u001b[39m\u001b[39m\"\u001b[39m):\n\u001b[0;32m--> 396\u001b[0m         \u001b[39mraise\u001b[39;00m \u001b[39mValueError\u001b[39;00m(\n\u001b[1;32m    397\u001b[0m             \u001b[39m\"\u001b[39m\u001b[39mMime type rendering requires nbformat>=4.2.0 but it is not installed\u001b[39m\u001b[39m\"\u001b[39m\n\u001b[1;32m    398\u001b[0m         )\n\u001b[1;32m    400\u001b[0m     ipython_display\u001b[39m.\u001b[39mdisplay(bundle, raw\u001b[39m=\u001b[39m\u001b[39mTrue\u001b[39;00m)\n\u001b[1;32m    402\u001b[0m \u001b[39m# external renderers\u001b[39;00m\n",
      "\u001b[0;31mValueError\u001b[0m: Mime type rendering requires nbformat>=4.2.0 but it is not installed"
     ]
    },
    {
     "data": {
      "application/vnd.plotly.v1+json": {
       "config": {
        "plotlyServerURL": "https://plot.ly"
       },
       "data": [
        {
         "hovertemplate": "approach=udf_approach<br>n=%{x}<br>time=%{y}<extra></extra>",
         "legendgroup": "udf_approach",
         "marker": {
          "color": "#636efa",
          "symbol": "circle"
         },
         "mode": "markers",
         "name": "udf_approach",
         "orientation": "h",
         "showlegend": true,
         "type": "scatter",
         "x": [
          6,
          6,
          6,
          6,
          6,
          60,
          60,
          60,
          60,
          60,
          600,
          600,
          600,
          600,
          600,
          1200,
          1200,
          1200,
          1200,
          1200,
          1800,
          1800,
          1800,
          1800,
          1800,
          2400,
          2400,
          2400,
          2400,
          2400,
          3000,
          3000,
          3000,
          3000,
          3000
         ],
         "xaxis": "x",
         "y": [
          0.3825760750332847,
          0.3383919260231778,
          0.28408138698432595,
          0.26211893500294536,
          0.27433496701996773,
          0.31183795898687094,
          0.278835159027949,
          0.3217138700420037,
          0.30205956590361893,
          0.2707856360357255,
          0.28252949204761535,
          0.32745947898365557,
          0.28382402809802443,
          0.3496996349422261,
          0.26157616393174976,
          0.26585982600227,
          0.22285145393107086,
          0.27860961097758263,
          0.3652720039244741,
          0.29900349606759846,
          0.23956770705990493,
          0.235206710989587,
          0.18415981100406498,
          0.20361693296581507,
          0.20499182201456279,
          0.14270196098368615,
          0.15312252298463136,
          0.15044524800032377,
          0.22502563591115177,
          0.16115948208607733,
          0.19962092000059783,
          0.25778087496291846,
          0.20211751805618405,
          0.2094104860443622,
          0.19148605689406395
         ],
         "yaxis": "y"
        },
        {
         "hovertemplate": "approach=bucketmap_approach<br>n=%{x}<br>time=%{y}<extra></extra>",
         "legendgroup": "bucketmap_approach",
         "marker": {
          "color": "#EF553B",
          "symbol": "circle"
         },
         "mode": "markers",
         "name": "bucketmap_approach",
         "orientation": "h",
         "showlegend": true,
         "type": "scatter",
         "x": [
          6,
          6,
          6,
          6,
          6,
          60,
          60,
          60,
          60,
          60,
          600,
          600,
          600,
          600,
          600,
          1200,
          1200,
          1200,
          1200,
          1200,
          1800,
          1800,
          1800,
          1800,
          1800,
          2400,
          2400,
          2400,
          2400,
          2400,
          3000,
          3000,
          3000,
          3000,
          3000
         ],
         "xaxis": "x",
         "y": [
          0.42370277899317443,
          0.4182470479281619,
          0.4350924219470471,
          0.40672773006372154,
          0.4352037870557979,
          0.5208186689997092,
          0.4289704040857032,
          0.447739343973808,
          0.4291449370793998,
          0.4002765470650047,
          0.5157551490701735,
          0.408168179099448,
          0.40344267792534083,
          0.4370027829427272,
          0.4332754840143025,
          0.31318967894185334,
          0.36451857001520693,
          0.3524748570052907,
          0.31509394699241966,
          0.29767862998414785,
          0.28505234397016466,
          0.31102346000261605,
          0.2593261990696192,
          0.3309247239958495,
          0.3174605359090492,
          0.3110647010616958,
          0.22936009208206087,
          0.7106710730586201,
          0.6504934990080073,
          0.5275220270268619,
          0.2826963779516518,
          0.388300355989486,
          0.37130810192320496,
          0.3938924149842933,
          0.29483579902444035
         ],
         "yaxis": "y"
        }
       ],
       "layout": {
        "legend": {
         "title": {
          "text": "approach"
         },
         "tracegroupgap": 0
        },
        "margin": {
         "t": 60
        },
        "template": {
         "data": {
          "bar": [
           {
            "error_x": {
             "color": "#2a3f5f"
            },
            "error_y": {
             "color": "#2a3f5f"
            },
            "marker": {
             "line": {
              "color": "#E5ECF6",
              "width": 0.5
             },
             "pattern": {
              "fillmode": "overlay",
              "size": 10,
              "solidity": 0.2
             }
            },
            "type": "bar"
           }
          ],
          "barpolar": [
           {
            "marker": {
             "line": {
              "color": "#E5ECF6",
              "width": 0.5
             },
             "pattern": {
              "fillmode": "overlay",
              "size": 10,
              "solidity": 0.2
             }
            },
            "type": "barpolar"
           }
          ],
          "carpet": [
           {
            "aaxis": {
             "endlinecolor": "#2a3f5f",
             "gridcolor": "white",
             "linecolor": "white",
             "minorgridcolor": "white",
             "startlinecolor": "#2a3f5f"
            },
            "baxis": {
             "endlinecolor": "#2a3f5f",
             "gridcolor": "white",
             "linecolor": "white",
             "minorgridcolor": "white",
             "startlinecolor": "#2a3f5f"
            },
            "type": "carpet"
           }
          ],
          "choropleth": [
           {
            "colorbar": {
             "outlinewidth": 0,
             "ticks": ""
            },
            "type": "choropleth"
           }
          ],
          "contour": [
           {
            "colorbar": {
             "outlinewidth": 0,
             "ticks": ""
            },
            "colorscale": [
             [
              0,
              "#0d0887"
             ],
             [
              0.1111111111111111,
              "#46039f"
             ],
             [
              0.2222222222222222,
              "#7201a8"
             ],
             [
              0.3333333333333333,
              "#9c179e"
             ],
             [
              0.4444444444444444,
              "#bd3786"
             ],
             [
              0.5555555555555556,
              "#d8576b"
             ],
             [
              0.6666666666666666,
              "#ed7953"
             ],
             [
              0.7777777777777778,
              "#fb9f3a"
             ],
             [
              0.8888888888888888,
              "#fdca26"
             ],
             [
              1,
              "#f0f921"
             ]
            ],
            "type": "contour"
           }
          ],
          "contourcarpet": [
           {
            "colorbar": {
             "outlinewidth": 0,
             "ticks": ""
            },
            "type": "contourcarpet"
           }
          ],
          "heatmap": [
           {
            "colorbar": {
             "outlinewidth": 0,
             "ticks": ""
            },
            "colorscale": [
             [
              0,
              "#0d0887"
             ],
             [
              0.1111111111111111,
              "#46039f"
             ],
             [
              0.2222222222222222,
              "#7201a8"
             ],
             [
              0.3333333333333333,
              "#9c179e"
             ],
             [
              0.4444444444444444,
              "#bd3786"
             ],
             [
              0.5555555555555556,
              "#d8576b"
             ],
             [
              0.6666666666666666,
              "#ed7953"
             ],
             [
              0.7777777777777778,
              "#fb9f3a"
             ],
             [
              0.8888888888888888,
              "#fdca26"
             ],
             [
              1,
              "#f0f921"
             ]
            ],
            "type": "heatmap"
           }
          ],
          "heatmapgl": [
           {
            "colorbar": {
             "outlinewidth": 0,
             "ticks": ""
            },
            "colorscale": [
             [
              0,
              "#0d0887"
             ],
             [
              0.1111111111111111,
              "#46039f"
             ],
             [
              0.2222222222222222,
              "#7201a8"
             ],
             [
              0.3333333333333333,
              "#9c179e"
             ],
             [
              0.4444444444444444,
              "#bd3786"
             ],
             [
              0.5555555555555556,
              "#d8576b"
             ],
             [
              0.6666666666666666,
              "#ed7953"
             ],
             [
              0.7777777777777778,
              "#fb9f3a"
             ],
             [
              0.8888888888888888,
              "#fdca26"
             ],
             [
              1,
              "#f0f921"
             ]
            ],
            "type": "heatmapgl"
           }
          ],
          "histogram": [
           {
            "marker": {
             "pattern": {
              "fillmode": "overlay",
              "size": 10,
              "solidity": 0.2
             }
            },
            "type": "histogram"
           }
          ],
          "histogram2d": [
           {
            "colorbar": {
             "outlinewidth": 0,
             "ticks": ""
            },
            "colorscale": [
             [
              0,
              "#0d0887"
             ],
             [
              0.1111111111111111,
              "#46039f"
             ],
             [
              0.2222222222222222,
              "#7201a8"
             ],
             [
              0.3333333333333333,
              "#9c179e"
             ],
             [
              0.4444444444444444,
              "#bd3786"
             ],
             [
              0.5555555555555556,
              "#d8576b"
             ],
             [
              0.6666666666666666,
              "#ed7953"
             ],
             [
              0.7777777777777778,
              "#fb9f3a"
             ],
             [
              0.8888888888888888,
              "#fdca26"
             ],
             [
              1,
              "#f0f921"
             ]
            ],
            "type": "histogram2d"
           }
          ],
          "histogram2dcontour": [
           {
            "colorbar": {
             "outlinewidth": 0,
             "ticks": ""
            },
            "colorscale": [
             [
              0,
              "#0d0887"
             ],
             [
              0.1111111111111111,
              "#46039f"
             ],
             [
              0.2222222222222222,
              "#7201a8"
             ],
             [
              0.3333333333333333,
              "#9c179e"
             ],
             [
              0.4444444444444444,
              "#bd3786"
             ],
             [
              0.5555555555555556,
              "#d8576b"
             ],
             [
              0.6666666666666666,
              "#ed7953"
             ],
             [
              0.7777777777777778,
              "#fb9f3a"
             ],
             [
              0.8888888888888888,
              "#fdca26"
             ],
             [
              1,
              "#f0f921"
             ]
            ],
            "type": "histogram2dcontour"
           }
          ],
          "mesh3d": [
           {
            "colorbar": {
             "outlinewidth": 0,
             "ticks": ""
            },
            "type": "mesh3d"
           }
          ],
          "parcoords": [
           {
            "line": {
             "colorbar": {
              "outlinewidth": 0,
              "ticks": ""
             }
            },
            "type": "parcoords"
           }
          ],
          "pie": [
           {
            "automargin": true,
            "type": "pie"
           }
          ],
          "scatter": [
           {
            "fillpattern": {
             "fillmode": "overlay",
             "size": 10,
             "solidity": 0.2
            },
            "type": "scatter"
           }
          ],
          "scatter3d": [
           {
            "line": {
             "colorbar": {
              "outlinewidth": 0,
              "ticks": ""
             }
            },
            "marker": {
             "colorbar": {
              "outlinewidth": 0,
              "ticks": ""
             }
            },
            "type": "scatter3d"
           }
          ],
          "scattercarpet": [
           {
            "marker": {
             "colorbar": {
              "outlinewidth": 0,
              "ticks": ""
             }
            },
            "type": "scattercarpet"
           }
          ],
          "scattergeo": [
           {
            "marker": {
             "colorbar": {
              "outlinewidth": 0,
              "ticks": ""
             }
            },
            "type": "scattergeo"
           }
          ],
          "scattergl": [
           {
            "marker": {
             "colorbar": {
              "outlinewidth": 0,
              "ticks": ""
             }
            },
            "type": "scattergl"
           }
          ],
          "scattermapbox": [
           {
            "marker": {
             "colorbar": {
              "outlinewidth": 0,
              "ticks": ""
             }
            },
            "type": "scattermapbox"
           }
          ],
          "scatterpolar": [
           {
            "marker": {
             "colorbar": {
              "outlinewidth": 0,
              "ticks": ""
             }
            },
            "type": "scatterpolar"
           }
          ],
          "scatterpolargl": [
           {
            "marker": {
             "colorbar": {
              "outlinewidth": 0,
              "ticks": ""
             }
            },
            "type": "scatterpolargl"
           }
          ],
          "scatterternary": [
           {
            "marker": {
             "colorbar": {
              "outlinewidth": 0,
              "ticks": ""
             }
            },
            "type": "scatterternary"
           }
          ],
          "surface": [
           {
            "colorbar": {
             "outlinewidth": 0,
             "ticks": ""
            },
            "colorscale": [
             [
              0,
              "#0d0887"
             ],
             [
              0.1111111111111111,
              "#46039f"
             ],
             [
              0.2222222222222222,
              "#7201a8"
             ],
             [
              0.3333333333333333,
              "#9c179e"
             ],
             [
              0.4444444444444444,
              "#bd3786"
             ],
             [
              0.5555555555555556,
              "#d8576b"
             ],
             [
              0.6666666666666666,
              "#ed7953"
             ],
             [
              0.7777777777777778,
              "#fb9f3a"
             ],
             [
              0.8888888888888888,
              "#fdca26"
             ],
             [
              1,
              "#f0f921"
             ]
            ],
            "type": "surface"
           }
          ],
          "table": [
           {
            "cells": {
             "fill": {
              "color": "#EBF0F8"
             },
             "line": {
              "color": "white"
             }
            },
            "header": {
             "fill": {
              "color": "#C8D4E3"
             },
             "line": {
              "color": "white"
             }
            },
            "type": "table"
           }
          ]
         },
         "layout": {
          "annotationdefaults": {
           "arrowcolor": "#2a3f5f",
           "arrowhead": 0,
           "arrowwidth": 1
          },
          "autotypenumbers": "strict",
          "coloraxis": {
           "colorbar": {
            "outlinewidth": 0,
            "ticks": ""
           }
          },
          "colorscale": {
           "diverging": [
            [
             0,
             "#8e0152"
            ],
            [
             0.1,
             "#c51b7d"
            ],
            [
             0.2,
             "#de77ae"
            ],
            [
             0.3,
             "#f1b6da"
            ],
            [
             0.4,
             "#fde0ef"
            ],
            [
             0.5,
             "#f7f7f7"
            ],
            [
             0.6,
             "#e6f5d0"
            ],
            [
             0.7,
             "#b8e186"
            ],
            [
             0.8,
             "#7fbc41"
            ],
            [
             0.9,
             "#4d9221"
            ],
            [
             1,
             "#276419"
            ]
           ],
           "sequential": [
            [
             0,
             "#0d0887"
            ],
            [
             0.1111111111111111,
             "#46039f"
            ],
            [
             0.2222222222222222,
             "#7201a8"
            ],
            [
             0.3333333333333333,
             "#9c179e"
            ],
            [
             0.4444444444444444,
             "#bd3786"
            ],
            [
             0.5555555555555556,
             "#d8576b"
            ],
            [
             0.6666666666666666,
             "#ed7953"
            ],
            [
             0.7777777777777778,
             "#fb9f3a"
            ],
            [
             0.8888888888888888,
             "#fdca26"
            ],
            [
             1,
             "#f0f921"
            ]
           ],
           "sequentialminus": [
            [
             0,
             "#0d0887"
            ],
            [
             0.1111111111111111,
             "#46039f"
            ],
            [
             0.2222222222222222,
             "#7201a8"
            ],
            [
             0.3333333333333333,
             "#9c179e"
            ],
            [
             0.4444444444444444,
             "#bd3786"
            ],
            [
             0.5555555555555556,
             "#d8576b"
            ],
            [
             0.6666666666666666,
             "#ed7953"
            ],
            [
             0.7777777777777778,
             "#fb9f3a"
            ],
            [
             0.8888888888888888,
             "#fdca26"
            ],
            [
             1,
             "#f0f921"
            ]
           ]
          },
          "colorway": [
           "#636efa",
           "#EF553B",
           "#00cc96",
           "#ab63fa",
           "#FFA15A",
           "#19d3f3",
           "#FF6692",
           "#B6E880",
           "#FF97FF",
           "#FECB52"
          ],
          "font": {
           "color": "#2a3f5f"
          },
          "geo": {
           "bgcolor": "white",
           "lakecolor": "white",
           "landcolor": "#E5ECF6",
           "showlakes": true,
           "showland": true,
           "subunitcolor": "white"
          },
          "hoverlabel": {
           "align": "left"
          },
          "hovermode": "closest",
          "mapbox": {
           "style": "light"
          },
          "paper_bgcolor": "white",
          "plot_bgcolor": "#E5ECF6",
          "polar": {
           "angularaxis": {
            "gridcolor": "white",
            "linecolor": "white",
            "ticks": ""
           },
           "bgcolor": "#E5ECF6",
           "radialaxis": {
            "gridcolor": "white",
            "linecolor": "white",
            "ticks": ""
           }
          },
          "scene": {
           "xaxis": {
            "backgroundcolor": "#E5ECF6",
            "gridcolor": "white",
            "gridwidth": 2,
            "linecolor": "white",
            "showbackground": true,
            "ticks": "",
            "zerolinecolor": "white"
           },
           "yaxis": {
            "backgroundcolor": "#E5ECF6",
            "gridcolor": "white",
            "gridwidth": 2,
            "linecolor": "white",
            "showbackground": true,
            "ticks": "",
            "zerolinecolor": "white"
           },
           "zaxis": {
            "backgroundcolor": "#E5ECF6",
            "gridcolor": "white",
            "gridwidth": 2,
            "linecolor": "white",
            "showbackground": true,
            "ticks": "",
            "zerolinecolor": "white"
           }
          },
          "shapedefaults": {
           "line": {
            "color": "#2a3f5f"
           }
          },
          "ternary": {
           "aaxis": {
            "gridcolor": "white",
            "linecolor": "white",
            "ticks": ""
           },
           "baxis": {
            "gridcolor": "white",
            "linecolor": "white",
            "ticks": ""
           },
           "bgcolor": "#E5ECF6",
           "caxis": {
            "gridcolor": "white",
            "linecolor": "white",
            "ticks": ""
           }
          },
          "title": {
           "x": 0.05
          },
          "xaxis": {
           "automargin": true,
           "gridcolor": "white",
           "linecolor": "white",
           "ticks": "",
           "title": {
            "standoff": 15
           },
           "zerolinecolor": "white",
           "zerolinewidth": 2
          },
          "yaxis": {
           "automargin": true,
           "gridcolor": "white",
           "linecolor": "white",
           "ticks": "",
           "title": {
            "standoff": 15
           },
           "zerolinecolor": "white",
           "zerolinewidth": 2
          }
         }
        },
        "xaxis": {
         "anchor": "y",
         "domain": [
          0,
          1
         ],
         "title": {
          "text": "n"
         }
        },
        "yaxis": {
         "anchor": "x",
         "domain": [
          0,
          1
         ],
         "title": {
          "text": "time"
         }
        }
       }
      },
      "text/html": [
       "<div>                            <div id=\"f8db29b7-0e10-467c-8be8-fc2dd8c6316b\" class=\"plotly-graph-div\" style=\"height:525px; width:100%;\"></div>            <script type=\"text/javascript\">                require([\"plotly\"], function(Plotly) {                    window.PLOTLYENV=window.PLOTLYENV || {};                                    if (document.getElementById(\"f8db29b7-0e10-467c-8be8-fc2dd8c6316b\")) {                    Plotly.newPlot(                        \"f8db29b7-0e10-467c-8be8-fc2dd8c6316b\",                        [{\"hovertemplate\":\"approach=udf_approach<br>n=%{x}<br>time=%{y}<extra></extra>\",\"legendgroup\":\"udf_approach\",\"marker\":{\"color\":\"#636efa\",\"symbol\":\"circle\"},\"mode\":\"markers\",\"name\":\"udf_approach\",\"orientation\":\"h\",\"showlegend\":true,\"x\":[6,6,6,6,6,60,60,60,60,60,600,600,600,600,600,1200,1200,1200,1200,1200,1800,1800,1800,1800,1800,2400,2400,2400,2400,2400,3000,3000,3000,3000,3000],\"xaxis\":\"x\",\"y\":[0.3825760750332847,0.3383919260231778,0.28408138698432595,0.26211893500294536,0.27433496701996773,0.31183795898687094,0.278835159027949,0.3217138700420037,0.30205956590361893,0.2707856360357255,0.28252949204761535,0.32745947898365557,0.28382402809802443,0.3496996349422261,0.26157616393174976,0.26585982600227,0.22285145393107086,0.27860961097758263,0.3652720039244741,0.29900349606759846,0.23956770705990493,0.235206710989587,0.18415981100406498,0.20361693296581507,0.20499182201456279,0.14270196098368615,0.15312252298463136,0.15044524800032377,0.22502563591115177,0.16115948208607733,0.19962092000059783,0.25778087496291846,0.20211751805618405,0.2094104860443622,0.19148605689406395],\"yaxis\":\"y\",\"type\":\"scatter\"},{\"hovertemplate\":\"approach=bucketmap_approach<br>n=%{x}<br>time=%{y}<extra></extra>\",\"legendgroup\":\"bucketmap_approach\",\"marker\":{\"color\":\"#EF553B\",\"symbol\":\"circle\"},\"mode\":\"markers\",\"name\":\"bucketmap_approach\",\"orientation\":\"h\",\"showlegend\":true,\"x\":[6,6,6,6,6,60,60,60,60,60,600,600,600,600,600,1200,1200,1200,1200,1200,1800,1800,1800,1800,1800,2400,2400,2400,2400,2400,3000,3000,3000,3000,3000],\"xaxis\":\"x\",\"y\":[0.42370277899317443,0.4182470479281619,0.4350924219470471,0.40672773006372154,0.4352037870557979,0.5208186689997092,0.4289704040857032,0.447739343973808,0.4291449370793998,0.4002765470650047,0.5157551490701735,0.408168179099448,0.40344267792534083,0.4370027829427272,0.4332754840143025,0.31318967894185334,0.36451857001520693,0.3524748570052907,0.31509394699241966,0.29767862998414785,0.28505234397016466,0.31102346000261605,0.2593261990696192,0.3309247239958495,0.3174605359090492,0.3110647010616958,0.22936009208206087,0.7106710730586201,0.6504934990080073,0.5275220270268619,0.2826963779516518,0.388300355989486,0.37130810192320496,0.3938924149842933,0.29483579902444035],\"yaxis\":\"y\",\"type\":\"scatter\"}],                        {\"template\":{\"data\":{\"histogram2dcontour\":[{\"type\":\"histogram2dcontour\",\"colorbar\":{\"outlinewidth\":0,\"ticks\":\"\"},\"colorscale\":[[0.0,\"#0d0887\"],[0.1111111111111111,\"#46039f\"],[0.2222222222222222,\"#7201a8\"],[0.3333333333333333,\"#9c179e\"],[0.4444444444444444,\"#bd3786\"],[0.5555555555555556,\"#d8576b\"],[0.6666666666666666,\"#ed7953\"],[0.7777777777777778,\"#fb9f3a\"],[0.8888888888888888,\"#fdca26\"],[1.0,\"#f0f921\"]]}],\"choropleth\":[{\"type\":\"choropleth\",\"colorbar\":{\"outlinewidth\":0,\"ticks\":\"\"}}],\"histogram2d\":[{\"type\":\"histogram2d\",\"colorbar\":{\"outlinewidth\":0,\"ticks\":\"\"},\"colorscale\":[[0.0,\"#0d0887\"],[0.1111111111111111,\"#46039f\"],[0.2222222222222222,\"#7201a8\"],[0.3333333333333333,\"#9c179e\"],[0.4444444444444444,\"#bd3786\"],[0.5555555555555556,\"#d8576b\"],[0.6666666666666666,\"#ed7953\"],[0.7777777777777778,\"#fb9f3a\"],[0.8888888888888888,\"#fdca26\"],[1.0,\"#f0f921\"]]}],\"heatmap\":[{\"type\":\"heatmap\",\"colorbar\":{\"outlinewidth\":0,\"ticks\":\"\"},\"colorscale\":[[0.0,\"#0d0887\"],[0.1111111111111111,\"#46039f\"],[0.2222222222222222,\"#7201a8\"],[0.3333333333333333,\"#9c179e\"],[0.4444444444444444,\"#bd3786\"],[0.5555555555555556,\"#d8576b\"],[0.6666666666666666,\"#ed7953\"],[0.7777777777777778,\"#fb9f3a\"],[0.8888888888888888,\"#fdca26\"],[1.0,\"#f0f921\"]]}],\"heatmapgl\":[{\"type\":\"heatmapgl\",\"colorbar\":{\"outlinewidth\":0,\"ticks\":\"\"},\"colorscale\":[[0.0,\"#0d0887\"],[0.1111111111111111,\"#46039f\"],[0.2222222222222222,\"#7201a8\"],[0.3333333333333333,\"#9c179e\"],[0.4444444444444444,\"#bd3786\"],[0.5555555555555556,\"#d8576b\"],[0.6666666666666666,\"#ed7953\"],[0.7777777777777778,\"#fb9f3a\"],[0.8888888888888888,\"#fdca26\"],[1.0,\"#f0f921\"]]}],\"contourcarpet\":[{\"type\":\"contourcarpet\",\"colorbar\":{\"outlinewidth\":0,\"ticks\":\"\"}}],\"contour\":[{\"type\":\"contour\",\"colorbar\":{\"outlinewidth\":0,\"ticks\":\"\"},\"colorscale\":[[0.0,\"#0d0887\"],[0.1111111111111111,\"#46039f\"],[0.2222222222222222,\"#7201a8\"],[0.3333333333333333,\"#9c179e\"],[0.4444444444444444,\"#bd3786\"],[0.5555555555555556,\"#d8576b\"],[0.6666666666666666,\"#ed7953\"],[0.7777777777777778,\"#fb9f3a\"],[0.8888888888888888,\"#fdca26\"],[1.0,\"#f0f921\"]]}],\"surface\":[{\"type\":\"surface\",\"colorbar\":{\"outlinewidth\":0,\"ticks\":\"\"},\"colorscale\":[[0.0,\"#0d0887\"],[0.1111111111111111,\"#46039f\"],[0.2222222222222222,\"#7201a8\"],[0.3333333333333333,\"#9c179e\"],[0.4444444444444444,\"#bd3786\"],[0.5555555555555556,\"#d8576b\"],[0.6666666666666666,\"#ed7953\"],[0.7777777777777778,\"#fb9f3a\"],[0.8888888888888888,\"#fdca26\"],[1.0,\"#f0f921\"]]}],\"mesh3d\":[{\"type\":\"mesh3d\",\"colorbar\":{\"outlinewidth\":0,\"ticks\":\"\"}}],\"scatter\":[{\"fillpattern\":{\"fillmode\":\"overlay\",\"size\":10,\"solidity\":0.2},\"type\":\"scatter\"}],\"parcoords\":[{\"type\":\"parcoords\",\"line\":{\"colorbar\":{\"outlinewidth\":0,\"ticks\":\"\"}}}],\"scatterpolargl\":[{\"type\":\"scatterpolargl\",\"marker\":{\"colorbar\":{\"outlinewidth\":0,\"ticks\":\"\"}}}],\"bar\":[{\"error_x\":{\"color\":\"#2a3f5f\"},\"error_y\":{\"color\":\"#2a3f5f\"},\"marker\":{\"line\":{\"color\":\"#E5ECF6\",\"width\":0.5},\"pattern\":{\"fillmode\":\"overlay\",\"size\":10,\"solidity\":0.2}},\"type\":\"bar\"}],\"scattergeo\":[{\"type\":\"scattergeo\",\"marker\":{\"colorbar\":{\"outlinewidth\":0,\"ticks\":\"\"}}}],\"scatterpolar\":[{\"type\":\"scatterpolar\",\"marker\":{\"colorbar\":{\"outlinewidth\":0,\"ticks\":\"\"}}}],\"histogram\":[{\"marker\":{\"pattern\":{\"fillmode\":\"overlay\",\"size\":10,\"solidity\":0.2}},\"type\":\"histogram\"}],\"scattergl\":[{\"type\":\"scattergl\",\"marker\":{\"colorbar\":{\"outlinewidth\":0,\"ticks\":\"\"}}}],\"scatter3d\":[{\"type\":\"scatter3d\",\"line\":{\"colorbar\":{\"outlinewidth\":0,\"ticks\":\"\"}},\"marker\":{\"colorbar\":{\"outlinewidth\":0,\"ticks\":\"\"}}}],\"scattermapbox\":[{\"type\":\"scattermapbox\",\"marker\":{\"colorbar\":{\"outlinewidth\":0,\"ticks\":\"\"}}}],\"scatterternary\":[{\"type\":\"scatterternary\",\"marker\":{\"colorbar\":{\"outlinewidth\":0,\"ticks\":\"\"}}}],\"scattercarpet\":[{\"type\":\"scattercarpet\",\"marker\":{\"colorbar\":{\"outlinewidth\":0,\"ticks\":\"\"}}}],\"carpet\":[{\"aaxis\":{\"endlinecolor\":\"#2a3f5f\",\"gridcolor\":\"white\",\"linecolor\":\"white\",\"minorgridcolor\":\"white\",\"startlinecolor\":\"#2a3f5f\"},\"baxis\":{\"endlinecolor\":\"#2a3f5f\",\"gridcolor\":\"white\",\"linecolor\":\"white\",\"minorgridcolor\":\"white\",\"startlinecolor\":\"#2a3f5f\"},\"type\":\"carpet\"}],\"table\":[{\"cells\":{\"fill\":{\"color\":\"#EBF0F8\"},\"line\":{\"color\":\"white\"}},\"header\":{\"fill\":{\"color\":\"#C8D4E3\"},\"line\":{\"color\":\"white\"}},\"type\":\"table\"}],\"barpolar\":[{\"marker\":{\"line\":{\"color\":\"#E5ECF6\",\"width\":0.5},\"pattern\":{\"fillmode\":\"overlay\",\"size\":10,\"solidity\":0.2}},\"type\":\"barpolar\"}],\"pie\":[{\"automargin\":true,\"type\":\"pie\"}]},\"layout\":{\"autotypenumbers\":\"strict\",\"colorway\":[\"#636efa\",\"#EF553B\",\"#00cc96\",\"#ab63fa\",\"#FFA15A\",\"#19d3f3\",\"#FF6692\",\"#B6E880\",\"#FF97FF\",\"#FECB52\"],\"font\":{\"color\":\"#2a3f5f\"},\"hovermode\":\"closest\",\"hoverlabel\":{\"align\":\"left\"},\"paper_bgcolor\":\"white\",\"plot_bgcolor\":\"#E5ECF6\",\"polar\":{\"bgcolor\":\"#E5ECF6\",\"angularaxis\":{\"gridcolor\":\"white\",\"linecolor\":\"white\",\"ticks\":\"\"},\"radialaxis\":{\"gridcolor\":\"white\",\"linecolor\":\"white\",\"ticks\":\"\"}},\"ternary\":{\"bgcolor\":\"#E5ECF6\",\"aaxis\":{\"gridcolor\":\"white\",\"linecolor\":\"white\",\"ticks\":\"\"},\"baxis\":{\"gridcolor\":\"white\",\"linecolor\":\"white\",\"ticks\":\"\"},\"caxis\":{\"gridcolor\":\"white\",\"linecolor\":\"white\",\"ticks\":\"\"}},\"coloraxis\":{\"colorbar\":{\"outlinewidth\":0,\"ticks\":\"\"}},\"colorscale\":{\"sequential\":[[0.0,\"#0d0887\"],[0.1111111111111111,\"#46039f\"],[0.2222222222222222,\"#7201a8\"],[0.3333333333333333,\"#9c179e\"],[0.4444444444444444,\"#bd3786\"],[0.5555555555555556,\"#d8576b\"],[0.6666666666666666,\"#ed7953\"],[0.7777777777777778,\"#fb9f3a\"],[0.8888888888888888,\"#fdca26\"],[1.0,\"#f0f921\"]],\"sequentialminus\":[[0.0,\"#0d0887\"],[0.1111111111111111,\"#46039f\"],[0.2222222222222222,\"#7201a8\"],[0.3333333333333333,\"#9c179e\"],[0.4444444444444444,\"#bd3786\"],[0.5555555555555556,\"#d8576b\"],[0.6666666666666666,\"#ed7953\"],[0.7777777777777778,\"#fb9f3a\"],[0.8888888888888888,\"#fdca26\"],[1.0,\"#f0f921\"]],\"diverging\":[[0,\"#8e0152\"],[0.1,\"#c51b7d\"],[0.2,\"#de77ae\"],[0.3,\"#f1b6da\"],[0.4,\"#fde0ef\"],[0.5,\"#f7f7f7\"],[0.6,\"#e6f5d0\"],[0.7,\"#b8e186\"],[0.8,\"#7fbc41\"],[0.9,\"#4d9221\"],[1,\"#276419\"]]},\"xaxis\":{\"gridcolor\":\"white\",\"linecolor\":\"white\",\"ticks\":\"\",\"title\":{\"standoff\":15},\"zerolinecolor\":\"white\",\"automargin\":true,\"zerolinewidth\":2},\"yaxis\":{\"gridcolor\":\"white\",\"linecolor\":\"white\",\"ticks\":\"\",\"title\":{\"standoff\":15},\"zerolinecolor\":\"white\",\"automargin\":true,\"zerolinewidth\":2},\"scene\":{\"xaxis\":{\"backgroundcolor\":\"#E5ECF6\",\"gridcolor\":\"white\",\"linecolor\":\"white\",\"showbackground\":true,\"ticks\":\"\",\"zerolinecolor\":\"white\",\"gridwidth\":2},\"yaxis\":{\"backgroundcolor\":\"#E5ECF6\",\"gridcolor\":\"white\",\"linecolor\":\"white\",\"showbackground\":true,\"ticks\":\"\",\"zerolinecolor\":\"white\",\"gridwidth\":2},\"zaxis\":{\"backgroundcolor\":\"#E5ECF6\",\"gridcolor\":\"white\",\"linecolor\":\"white\",\"showbackground\":true,\"ticks\":\"\",\"zerolinecolor\":\"white\",\"gridwidth\":2}},\"shapedefaults\":{\"line\":{\"color\":\"#2a3f5f\"}},\"annotationdefaults\":{\"arrowcolor\":\"#2a3f5f\",\"arrowhead\":0,\"arrowwidth\":1},\"geo\":{\"bgcolor\":\"white\",\"landcolor\":\"#E5ECF6\",\"subunitcolor\":\"white\",\"showland\":true,\"showlakes\":true,\"lakecolor\":\"white\"},\"title\":{\"x\":0.05},\"mapbox\":{\"style\":\"light\"}}},\"xaxis\":{\"anchor\":\"y\",\"domain\":[0.0,1.0],\"title\":{\"text\":\"n\"}},\"yaxis\":{\"anchor\":\"x\",\"domain\":[0.0,1.0],\"title\":{\"text\":\"time\"}},\"legend\":{\"title\":{\"text\":\"approach\"},\"tracegroupgap\":0},\"margin\":{\"t\":60}},                        {\"responsive\": true}                    ).then(function(){\n",
       "                            \n",
       "var gd = document.getElementById('f8db29b7-0e10-467c-8be8-fc2dd8c6316b');\n",
       "var x = new MutationObserver(function (mutations, observer) {{\n",
       "        var display = window.getComputedStyle(gd).display;\n",
       "        if (!display || display === 'none') {{\n",
       "            console.log([gd, 'removed!']);\n",
       "            Plotly.purge(gd);\n",
       "            observer.disconnect();\n",
       "        }}\n",
       "}});\n",
       "\n",
       "// Listen for the removal of the full notebook cells\n",
       "var notebookContainer = gd.closest('#notebook-container');\n",
       "if (notebookContainer) {{\n",
       "    x.observe(notebookContainer, {childList: true});\n",
       "}}\n",
       "\n",
       "// Listen for the clearing of the current output cell\n",
       "var outputEl = gd.closest('.output');\n",
       "if (outputEl) {{\n",
       "    x.observe(outputEl, {childList: true});\n",
       "}}\n",
       "\n",
       "                        })                };                });            </script>        </div>"
      ],
      "text/plain": [
       "Figure({\n",
       "    'data': [{'hovertemplate': 'approach=udf_approach<br>n=%{x}<br>time=%{y}<extra></extra>',\n",
       "              'legendgroup': 'udf_approach',\n",
       "              'marker': {'color': '#636efa', 'symbol': 'circle'},\n",
       "              'mode': 'markers',\n",
       "              'name': 'udf_approach',\n",
       "              'orientation': 'h',\n",
       "              'showlegend': True,\n",
       "              'type': 'scatter',\n",
       "              'x': array([   6,    6,    6,    6,    6,   60,   60,   60,   60,   60,  600,  600,\n",
       "                           600,  600,  600, 1200, 1200, 1200, 1200, 1200, 1800, 1800, 1800, 1800,\n",
       "                          1800, 2400, 2400, 2400, 2400, 2400, 3000, 3000, 3000, 3000, 3000]),\n",
       "              'xaxis': 'x',\n",
       "              'y': array([0.3825760750332847, 0.3383919260231778, 0.28408138698432595,\n",
       "                          0.26211893500294536, 0.27433496701996773, 0.31183795898687094,\n",
       "                          0.278835159027949, 0.3217138700420037, 0.30205956590361893,\n",
       "                          0.2707856360357255, 0.28252949204761535, 0.32745947898365557,\n",
       "                          0.28382402809802443, 0.3496996349422261, 0.26157616393174976,\n",
       "                          0.26585982600227, 0.22285145393107086, 0.27860961097758263,\n",
       "                          0.3652720039244741, 0.29900349606759846, 0.23956770705990493,\n",
       "                          0.235206710989587, 0.18415981100406498, 0.20361693296581507,\n",
       "                          0.20499182201456279, 0.14270196098368615, 0.15312252298463136,\n",
       "                          0.15044524800032377, 0.22502563591115177, 0.16115948208607733,\n",
       "                          0.19962092000059783, 0.25778087496291846, 0.20211751805618405,\n",
       "                          0.2094104860443622, 0.19148605689406395], dtype=object),\n",
       "              'yaxis': 'y'},\n",
       "             {'hovertemplate': 'approach=bucketmap_approach<br>n=%{x}<br>time=%{y}<extra></extra>',\n",
       "              'legendgroup': 'bucketmap_approach',\n",
       "              'marker': {'color': '#EF553B', 'symbol': 'circle'},\n",
       "              'mode': 'markers',\n",
       "              'name': 'bucketmap_approach',\n",
       "              'orientation': 'h',\n",
       "              'showlegend': True,\n",
       "              'type': 'scatter',\n",
       "              'x': array([   6,    6,    6,    6,    6,   60,   60,   60,   60,   60,  600,  600,\n",
       "                           600,  600,  600, 1200, 1200, 1200, 1200, 1200, 1800, 1800, 1800, 1800,\n",
       "                          1800, 2400, 2400, 2400, 2400, 2400, 3000, 3000, 3000, 3000, 3000]),\n",
       "              'xaxis': 'x',\n",
       "              'y': array([0.42370277899317443, 0.4182470479281619, 0.4350924219470471,\n",
       "                          0.40672773006372154, 0.4352037870557979, 0.5208186689997092,\n",
       "                          0.4289704040857032, 0.447739343973808, 0.4291449370793998,\n",
       "                          0.4002765470650047, 0.5157551490701735, 0.408168179099448,\n",
       "                          0.40344267792534083, 0.4370027829427272, 0.4332754840143025,\n",
       "                          0.31318967894185334, 0.36451857001520693, 0.3524748570052907,\n",
       "                          0.31509394699241966, 0.29767862998414785, 0.28505234397016466,\n",
       "                          0.31102346000261605, 0.2593261990696192, 0.3309247239958495,\n",
       "                          0.3174605359090492, 0.3110647010616958, 0.22936009208206087,\n",
       "                          0.7106710730586201, 0.6504934990080073, 0.5275220270268619,\n",
       "                          0.2826963779516518, 0.388300355989486, 0.37130810192320496,\n",
       "                          0.3938924149842933, 0.29483579902444035], dtype=object),\n",
       "              'yaxis': 'y'}],\n",
       "    'layout': {'legend': {'title': {'text': 'approach'}, 'tracegroupgap': 0},\n",
       "               'margin': {'t': 60},\n",
       "               'template': '...',\n",
       "               'xaxis': {'anchor': 'y', 'domain': [0.0, 1.0], 'title': {'text': 'n'}},\n",
       "               'yaxis': {'anchor': 'x', 'domain': [0.0, 1.0], 'title': {'text': 'time'}}}\n",
       "})"
      ]
     },
     "execution_count": 157,
     "metadata": {},
     "output_type": "execute_result"
    }
   ],
   "source": [
    "import plotly.express as px\n",
    "\n",
    "px.scatter(df, x=\"n\", y=\"time\", color=\"approach\")"
   ]
  },
  {
   "cell_type": "markdown",
   "metadata": {},
   "source": [
    "|`pyspark-bucketmap`|pyspark UDF|\n",
    "|-|-|\n",
    "|17 ms ± 813 µs per loop|12.3 ms ± 281 µs per loop|\n",
    "\n",
    "mean ± std. dev. of 7 runs, 1,000 loops each"
   ]
  },
  {
   "cell_type": "markdown",
   "metadata": {},
   "source": [
    "## Conclusion\n",
    "It's a wrap! Hope you learned something useful.\n",
    "\n",
    "---\n",
    "\n",
    "Written by [Jeroen Overschie](https://jeroenoverschie.nl/), working at [GoDataDriven](https://godatadriven.com/)"
   ]
  }
 ],
 "metadata": {
  "kernelspec": {
   "display_name": "Python 3.7.10 64-bit",
   "language": "python",
   "name": "python3"
  },
  "language_info": {
   "codemirror_mode": {
    "name": "ipython",
    "version": 3
   },
   "file_extension": ".py",
   "mimetype": "text/x-python",
   "name": "python",
   "nbconvert_exporter": "python",
   "pygments_lexer": "ipython3",
   "version": "3.9.2"
  },
  "orig_nbformat": 4,
  "vscode": {
   "interpreter": {
    "hash": "31f2aee4e71d21fbe5cf8b01ff0e069b9275f58929596ceb00d14d90e3e16cd6"
   }
  }
 },
 "nbformat": 4,
 "nbformat_minor": 2
}
